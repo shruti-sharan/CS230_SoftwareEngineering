{
 "cells": [
  {
   "cell_type": "code",
   "execution_count": 1,
   "metadata": {},
   "outputs": [],
   "source": [
    "import pandas as pd \n",
    "import numpy as np \n",
    "import math\n",
    "import matplotlib.pyplot as plt\n",
    "import plotly.plotly as py\n",
    "import plotly.tools as tls\n",
    "from sklearn import metrics\n",
    "from sklearn.model_selection import train_test_split\n",
    "from tqdm import tqdm\n",
    "\n",
    "import os\n",
    "import pickle"
   ]
  },
  {
   "cell_type": "markdown",
   "metadata": {},
   "source": [
    "## Model with Tokenization and One Hot Encoding"
   ]
  },
  {
   "cell_type": "code",
   "execution_count": 2,
   "metadata": {},
   "outputs": [
    {
     "data": {
      "text/plain": [
       "6291"
      ]
     },
     "execution_count": 2,
     "metadata": {},
     "output_type": "execute_result"
    }
   ],
   "source": [
    "pos_embedding = pickle.load(open('/home/jupyter/CS230/data/pos_embedding_vec','rb'))\n",
    "len(pos_embedding)"
   ]
  },
  {
   "cell_type": "code",
   "execution_count": 3,
   "metadata": {},
   "outputs": [
    {
     "data": {
      "text/plain": [
       "187232"
      ]
     },
     "execution_count": 3,
     "metadata": {},
     "output_type": "execute_result"
    }
   ],
   "source": [
    "neg_embedding = pickle.load(open('/home/jupyter/CS230/data/neg_embedding_vec_line','rb'))\n",
    "len(neg_embedding)"
   ]
  },
  {
   "cell_type": "code",
   "execution_count": 4,
   "metadata": {},
   "outputs": [
    {
     "data": {
      "text/plain": [
       "6291"
      ]
     },
     "execution_count": 4,
     "metadata": {},
     "output_type": "execute_result"
    }
   ],
   "source": [
    "#sub smaple negative samples\n",
    "neg_embedding=neg_embedding[:6291]\n",
    "len(neg_embedding)"
   ]
  },
  {
   "cell_type": "code",
   "execution_count": 5,
   "metadata": {},
   "outputs": [
    {
     "data": {
      "text/plain": [
       "12582"
      ]
     },
     "execution_count": 5,
     "metadata": {},
     "output_type": "execute_result"
    }
   ],
   "source": [
    "#concatenating\n",
    "all_embeddings=list(pos_embedding+neg_embedding)\n",
    "len(all_embeddings)"
   ]
  },
  {
   "cell_type": "code",
   "execution_count": 6,
   "metadata": {},
   "outputs": [
    {
     "data": {
      "text/plain": [
       "array([1., 1., 1., ..., 1., 1., 1.])"
      ]
     },
     "execution_count": 6,
     "metadata": {},
     "output_type": "execute_result"
    }
   ],
   "source": [
    "#creating two arrays with 1s and 0s\n",
    "pos_target=np.ones(6291)\n",
    "pos_target"
   ]
  },
  {
   "cell_type": "code",
   "execution_count": 7,
   "metadata": {},
   "outputs": [
    {
     "data": {
      "text/plain": [
       "array([0., 0., 0., ..., 0., 0., 0.])"
      ]
     },
     "execution_count": 7,
     "metadata": {},
     "output_type": "execute_result"
    }
   ],
   "source": [
    "neg_target=np.zeros(6291)\n",
    "neg_target"
   ]
  },
  {
   "cell_type": "code",
   "execution_count": 8,
   "metadata": {},
   "outputs": [
    {
     "data": {
      "text/plain": [
       "array([1., 1., 1., ..., 0., 0., 0.])"
      ]
     },
     "execution_count": 8,
     "metadata": {},
     "output_type": "execute_result"
    }
   ],
   "source": [
    "all_target= np.append(pos_target,neg_target,axis=None)\n",
    "all_target"
   ]
  },
  {
   "cell_type": "code",
   "execution_count": 10,
   "metadata": {},
   "outputs": [],
   "source": [
    "embedding_size = 361\n",
    "question_size = 104\n",
    "def get_padded_embeddings(temp_df):\n",
    "    #print(\"tdf\", temp_df.shape)\n",
    "    temp_df=temp_df.reshape(-1,361)\n",
    "    zero_embeddings = np.zeros(embedding_size)\n",
    "    truncated_df = temp_df[:question_size]\n",
    "    #print(truncated_df.shape)\n",
    "    #print(len(truncated_df),len(truncated_df[0]))\n",
    "    #print(type([zero_embeddings]*(question_size-len(truncated_df))))\n",
    "    #print(np.array([zero_embeddings]*(question_size - len(truncated_df))).shape)\n",
    "    if(len(truncated_df)!=104):\n",
    "        truncated_df = np.concatenate((truncated_df, np.array([zero_embeddings]*(question_size- len(truncated_df)))))\n",
    "        #print(truncated_df.shape)\n",
    "    return truncated_df"
   ]
  },
  {
   "cell_type": "code",
   "execution_count": 11,
   "metadata": {},
   "outputs": [],
   "source": [
    "emb_vect_temp=np.array([get_padded_embeddings(line) for line in all_embeddings])"
   ]
  },
  {
   "cell_type": "code",
   "execution_count": 12,
   "metadata": {},
   "outputs": [
    {
     "data": {
      "text/plain": [
       "(12582, 104, 361)"
      ]
     },
     "execution_count": 12,
     "metadata": {},
     "output_type": "execute_result"
    }
   ],
   "source": [
    "emb_vect_temp.shape"
   ]
  },
  {
   "cell_type": "code",
   "execution_count": 50,
   "metadata": {},
   "outputs": [],
   "source": [
    "all_embeddings_temp, all_embeddings_test,y_temp,y_test = train_test_split(emb_vect_temp, all_target, test_size = 0.30, shuffle=True, random_state = 42)\n"
   ]
  },
  {
   "cell_type": "code",
   "execution_count": 51,
   "metadata": {},
   "outputs": [],
   "source": [
    "all_embeddings_train,all_embeddings_val,y_train,y_val= train_test_split(all_embeddings_temp,y_temp,test_size=0.20)"
   ]
  },
  {
   "cell_type": "code",
   "execution_count": 27,
   "metadata": {},
   "outputs": [],
   "source": [
    "from tensorflow.python.client import device_lib\n",
    "assert 'GPU' in str(device_lib.list_local_devices())"
   ]
  },
  {
   "cell_type": "code",
   "execution_count": 28,
   "metadata": {},
   "outputs": [
    {
     "name": "stdout",
     "output_type": "stream",
     "text": [
      "1\n"
     ]
    }
   ],
   "source": [
    "from keras import backend\n",
    "print(len(backend.tensorflow_backend._get_available_gpus()))"
   ]
  },
  {
   "cell_type": "code",
   "execution_count": 15,
   "metadata": {},
   "outputs": [],
   "source": [
    "from keras.models import Sequential\n",
    "from keras.layers import CuDNNLSTM, Dense, Bidirectional,Flatten\n",
    "from sklearn.metrics import f1_score\n",
    "from keras.utils import to_categorical"
   ]
  },
  {
   "cell_type": "code",
   "execution_count": 52,
   "metadata": {},
   "outputs": [],
   "source": [
    "model = Sequential()\n",
    "model.add(Bidirectional(CuDNNLSTM(64, return_sequences=True, input_shape=(104,361))))\n",
    "model.add(Bidirectional(CuDNNLSTM(64)))\n",
    "model.add(Dense(1, activation=\"sigmoid\"))"
   ]
  },
  {
   "cell_type": "code",
   "execution_count": 53,
   "metadata": {},
   "outputs": [],
   "source": [
    "model.compile(loss='binary_crossentropy',\n",
    "              optimizer='adam',\n",
    "              metrics=['accuracy'])"
   ]
  },
  {
   "cell_type": "code",
   "execution_count": 55,
   "metadata": {},
   "outputs": [
    {
     "name": "stderr",
     "output_type": "stream",
     "text": [
      "/opt/anaconda3/lib/python3.7/site-packages/ipykernel_launcher.py:1: UserWarning:\n",
      "\n",
      "The `nb_epoch` argument in `fit` has been renamed `epochs`.\n",
      "\n"
     ]
    },
    {
     "name": "stdout",
     "output_type": "stream",
     "text": [
      "Train on 7045 samples, validate on 1762 samples\n",
      "Epoch 1/5\n",
      "1000/1000 [==============================] - 1633s 2s/step - loss: 0.3005 - acc: 0.8547 - val_loss: 1.6447 - val_acc: 0.6844\n",
      "Epoch 2/5\n",
      "1000/1000 [==============================] - 1633s 2s/step - loss: 0.2232 - acc: 0.8954 - val_loss: 1.8816 - val_acc: 0.6822\n",
      "Epoch 3/5\n",
      "1000/1000 [==============================] - 1634s 2s/step - loss: 0.2114 - acc: 0.9051 - val_loss: 1.9659 - val_acc: 0.6771\n",
      "Epoch 4/5\n",
      "1000/1000 [==============================] - 1634s 2s/step - loss: 0.1948 - acc: 0.9129 - val_loss: 1.8667 - val_acc: 0.6862\n",
      "Epoch 5/5\n",
      "1000/1000 [==============================] - 1633s 2s/step - loss: 0.1913 - acc: 0.9154 - val_loss: 1.5531 - val_acc: 0.6884\n"
     ]
    }
   ],
   "source": [
    "history=model.fit(all_embeddings_train, y_train,validation_data=(all_embeddings_val,y_val), batch_size=None,nb_epoch=5,steps_per_epoch=1000, validation_steps=1000, verbose=1)"
   ]
  },
  {
   "cell_type": "code",
   "execution_count": 56,
   "metadata": {},
   "outputs": [],
   "source": [
    "with open('/home/jupyter/notebooks/HistoryDict', 'wb') as file_pi:\n",
    "        pickle.dump(history.history, file_pi)\n",
    "\n",
    "with open('/home/jupyter/notebooks/Model', 'wb') as file_mo:\n",
    "        pickle.dump(model, file_mo)"
   ]
  },
  {
   "cell_type": "code",
   "execution_count": 57,
   "metadata": {},
   "outputs": [
    {
     "name": "stdout",
     "output_type": "stream",
     "text": [
      "_________________________________________________________________\n",
      "Layer (type)                 Output Shape              Param #   \n",
      "=================================================================\n",
      "bidirectional_5 (Bidirection (None, 104, 128)          218624    \n",
      "_________________________________________________________________\n",
      "bidirectional_6 (Bidirection (None, 128)               99328     \n",
      "_________________________________________________________________\n",
      "dense_3 (Dense)              (None, 1)                 129       \n",
      "=================================================================\n",
      "Total params: 318,081\n",
      "Trainable params: 318,081\n",
      "Non-trainable params: 0\n",
      "_________________________________________________________________\n"
     ]
    }
   ],
   "source": [
    "model.summary()"
   ]
  },
  {
   "cell_type": "code",
   "execution_count": 58,
   "metadata": {},
   "outputs": [
    {
     "name": "stdout",
     "output_type": "stream",
     "text": [
      "1000/1000 [==============================] - 366s 366ms/step\n",
      "Test Accuracy 0.6768211722373962\n"
     ]
    }
   ],
   "source": [
    "score=model.evaluate(all_embeddings_test,y_test,steps=1000,verbose=1)\n",
    "print(\"Test Accuracy\",score[1])"
   ]
  },
  {
   "cell_type": "code",
   "execution_count": 63,
   "metadata": {},
   "outputs": [
    {
     "name": "stdout",
     "output_type": "stream",
     "text": [
      "dict_keys(['val_loss', 'val_acc', 'loss', 'acc'])\n"
     ]
    },
    {
     "data": {
      "image/png": "[encoded data removed]",
      "text/plain": [
       "<Figure size 432x288 with 1 Axes>"
      ]
     },
     "metadata": {
      "needs_background": "light"
     },
     "output_type": "display_data"
    },
    {
     "data": {
      "image/png": "[encoded data removed]",
      "text/plain": [
       "<Figure size 432x288 with 1 Axes>"
      ]
     },
     "metadata": {
      "needs_background": "light"
     },
     "output_type": "display_data"
    }
   ],
   "source": [
    "#visualization of test train and validation\n",
    "print(history.history.keys())\n",
    "# summarize history for accuracy\n",
    "fig = plt.figure()\n",
    "plt.plot(history.history['acc'])\n",
    "plt.plot(history.history['val_acc'])\n",
    "plt.plot(score[1])\n",
    "plt.title('Model Accuracy')\n",
    "plt.ylabel('Accuracy')\n",
    "plt.xlabel('Epoch')\n",
    "plt.legend(['Training', 'Validation'], loc='upper left')\n",
    "plt.show()\n",
    "fig.savefig('/home/jupyter/notebooks/Model_Acc.png', dpi=fig.dpi)\n",
    "\n",
    "# summarize history for loss\n",
    "fig = plt.figure()\n",
    "plt.plot(history.history['loss'])\n",
    "plt.plot(history.history['val_loss'])\n",
    "plt.title('Model Loss')\n",
    "plt.ylabel('Loss')\n",
    "plt.xlabel('Epoch')\n",
    "plt.legend(['Training', 'Validation'], loc='upper left')\n",
    "plt.show()\n",
    "fig.savefig('/home/jupyter/notebooks/Model_Loss.png', dpi=fig.dpi)"
   ]
  },
  {
   "cell_type": "markdown",
   "metadata": {},
   "source": [
    "## Model with Tokenization but not One Hot Encoding Vector"
   ]
  },
  {
   "cell_type": "code",
   "execution_count": 31,
   "metadata": {},
   "outputs": [
    {
     "name": "stdout",
     "output_type": "stream",
     "text": [
      "6291\n",
      "(300, 6)\n"
     ]
    }
   ],
   "source": [
    "pos_embedding_baseline = pickle.load(open('/home/jupyter/CS230/data/pos_embedding_vec_without_one_hot_encoding','rb'))\n",
    "print(len(pos_embedding_baseline))\n",
    "print(pos_embedding_baseline[0].shape)"
   ]
  },
  {
   "cell_type": "code",
   "execution_count": 32,
   "metadata": {},
   "outputs": [
    {
     "name": "stdout",
     "output_type": "stream",
     "text": [
      "187232\n",
      "(300, 2)\n"
     ]
    }
   ],
   "source": [
    "neg_embedding_baseline = pickle.load(open('/home/jupyter/CS230/data/neg_embedding_vec_without_one_hot_encoding','rb'))\n",
    "print(len(neg_embedding_baseline))\n",
    "print(neg_embedding_baseline[0].shape)"
   ]
  },
  {
   "cell_type": "code",
   "execution_count": 33,
   "metadata": {},
   "outputs": [
    {
     "data": {
      "text/plain": [
       "6291"
      ]
     },
     "execution_count": 33,
     "metadata": {},
     "output_type": "execute_result"
    }
   ],
   "source": [
    "#sub smaple negative samples\n",
    "neg_embedding_baseline=neg_embedding_baseline[:6291]\n",
    "len(neg_embedding_baseline)"
   ]
  },
  {
   "cell_type": "code",
   "execution_count": 34,
   "metadata": {},
   "outputs": [
    {
     "data": {
      "text/plain": [
       "12582"
      ]
     },
     "execution_count": 34,
     "metadata": {},
     "output_type": "execute_result"
    }
   ],
   "source": [
    "#concatenating\n",
    "all_embeddings_baseline=list(pos_embedding_baseline+neg_embedding_baseline)\n",
    "len(all_embeddings_baseline)"
   ]
  },
  {
   "cell_type": "code",
   "execution_count": 35,
   "metadata": {},
   "outputs": [
    {
     "data": {
      "text/plain": [
       "array([1., 1., 1., ..., 1., 1., 1.])"
      ]
     },
     "execution_count": 35,
     "metadata": {},
     "output_type": "execute_result"
    }
   ],
   "source": [
    "#creating two arrays with 1s and 0s\n",
    "pos_target_baseline=np.ones(6291)\n",
    "pos_target_baseline"
   ]
  },
  {
   "cell_type": "code",
   "execution_count": 36,
   "metadata": {},
   "outputs": [
    {
     "data": {
      "text/plain": [
       "array([0., 0., 0., ..., 0., 0., 0.])"
      ]
     },
     "execution_count": 36,
     "metadata": {},
     "output_type": "execute_result"
    }
   ],
   "source": [
    "neg_target_baseline=np.zeros(6291)\n",
    "neg_target_baseline"
   ]
  },
  {
   "cell_type": "code",
   "execution_count": 37,
   "metadata": {},
   "outputs": [
    {
     "data": {
      "text/plain": [
       "array([1., 1., 1., ..., 0., 0., 0.])"
      ]
     },
     "execution_count": 37,
     "metadata": {},
     "output_type": "execute_result"
    }
   ],
   "source": [
    "all_target_baseline= np.append(pos_target_baseline,neg_target_baseline,axis=None)\n",
    "all_target_baseline"
   ]
  },
  {
   "cell_type": "code",
   "execution_count": 38,
   "metadata": {},
   "outputs": [],
   "source": [
    "embedding_size_baseline = 300\n",
    "question_size = 104\n",
    "def get_padded_embeddings_baseline(temp_df):\n",
    "    #print(\"tdf\", temp_df.shape)\n",
    "    temp_df=temp_df.reshape(-1,300)\n",
    "    zero_embeddings = np.zeros(embedding_size_baseline)\n",
    "    truncated_df = temp_df[:question_size]\n",
    "    #print(truncated_df.shape)\n",
    "    #print(len(truncated_df),len(truncated_df[0]))\n",
    "    #print(type([zero_embeddings]*(question_size-len(truncated_df))))\n",
    "    #print(np.array([zero_embeddings]*(question_size - len(truncated_df))).shape)\n",
    "    if(len(truncated_df)!=104):\n",
    "        truncated_df = np.concatenate((truncated_df, np.array([zero_embeddings]*(question_size- len(truncated_df)))))\n",
    "        #print(truncated_df.shape)\n",
    "    return truncated_df"
   ]
  },
  {
   "cell_type": "code",
   "execution_count": 39,
   "metadata": {},
   "outputs": [],
   "source": [
    "emb_vect_temp_baseline=np.array([get_padded_embeddings_baseline(line) for line in all_embeddings_baseline])"
   ]
  },
  {
   "cell_type": "code",
   "execution_count": 40,
   "metadata": {},
   "outputs": [
    {
     "data": {
      "text/plain": [
       "(12582, 104, 300)"
      ]
     },
     "execution_count": 40,
     "metadata": {},
     "output_type": "execute_result"
    }
   ],
   "source": [
    "emb_vect_temp_baseline.shape"
   ]
  },
  {
   "cell_type": "code",
   "execution_count": 41,
   "metadata": {},
   "outputs": [],
   "source": [
    "all_embeddings_temp_baseline, all_embeddings_test_baseline,y_temp_baseline,y_test_baseline = train_test_split(emb_vect_temp_baseline, all_target_baseline, test_size = 0.30, shuffle=True, random_state = 42)\n"
   ]
  },
  {
   "cell_type": "code",
   "execution_count": 42,
   "metadata": {},
   "outputs": [],
   "source": [
    "all_embeddings_train_baseline,all_embeddings_val_baseline,y_train_baseline,y_val_baseline= train_test_split(all_embeddings_temp_baseline,y_temp_baseline,test_size=0.20, shuffle=True, random_state = 42)\n"
   ]
  },
  {
   "cell_type": "code",
   "execution_count": 43,
   "metadata": {},
   "outputs": [],
   "source": [
    "model_baseline = Sequential()\n",
    "model_baseline.add(Bidirectional(CuDNNLSTM(64, return_sequences=True, input_shape=(104,361))))\n",
    "model_baseline.add(Bidirectional(CuDNNLSTM(64)))\n",
    "model_baseline.add(Dense(1, activation=\"sigmoid\"))"
   ]
  },
  {
   "cell_type": "code",
   "execution_count": 44,
   "metadata": {},
   "outputs": [],
   "source": [
    "model_baseline.compile(loss='binary_crossentropy',\n",
    "              optimizer='adam',\n",
    "              metrics=['accuracy'])"
   ]
  },
  {
   "cell_type": "code",
   "execution_count": 45,
   "metadata": {},
   "outputs": [
    {
     "name": "stderr",
     "output_type": "stream",
     "text": [
      "/opt/anaconda3/lib/python3.7/site-packages/ipykernel_launcher.py:1: UserWarning:\n",
      "\n",
      "The `nb_epoch` argument in `fit` has been renamed `epochs`.\n",
      "\n"
     ]
    },
    {
     "name": "stdout",
     "output_type": "stream",
     "text": [
      "Train on 7045 samples, validate on 1762 samples\n",
      "Epoch 1/5\n",
      "1000/1000 [==============================] - 1231s 1s/step - loss: 0.3123 - acc: 0.8473 - val_loss: 1.4982 - val_acc: 0.6958\n",
      "Epoch 2/5\n",
      "1000/1000 [==============================] - 1230s 1s/step - loss: 0.2281 - acc: 0.8930 - val_loss: 1.6791 - val_acc: 0.6924\n",
      "Epoch 3/5\n",
      "1000/1000 [==============================] - 1232s 1s/step - loss: 0.2069 - acc: 0.9050 - val_loss: 1.6198 - val_acc: 0.6890\n",
      "Epoch 4/5\n",
      "1000/1000 [==============================] - 1232s 1s/step - loss: 0.1949 - acc: 0.9137 - val_loss: 1.6705 - val_acc: 0.6827\n",
      "Epoch 5/5\n",
      "1000/1000 [==============================] - 1237s 1s/step - loss: 0.1762 - acc: 0.9230 - val_loss: 1.7199 - val_acc: 0.6691\n"
     ]
    }
   ],
   "source": [
    "history_baseline = model_baseline.fit(all_embeddings_train_baseline, y_train_baseline, validation_data=(all_embeddings_val_baseline,y_val_baseline),batch_size=None,nb_epoch=5,steps_per_epoch=1000, validation_steps=1000, verbose=1)\n"
   ]
  },
  {
   "cell_type": "code",
   "execution_count": 66,
   "metadata": {},
   "outputs": [
    {
     "name": "stdout",
     "output_type": "stream",
     "text": [
      "_________________________________________________________________\n",
      "Layer (type)                 Output Shape              Param #   \n",
      "=================================================================\n",
      "bidirectional_5 (Bidirection (None, 104, 128)          218624    \n",
      "_________________________________________________________________\n",
      "bidirectional_6 (Bidirection (None, 128)               99328     \n",
      "_________________________________________________________________\n",
      "dense_3 (Dense)              (None, 1)                 129       \n",
      "=================================================================\n",
      "Total params: 318,081\n",
      "Trainable params: 318,081\n",
      "Non-trainable params: 0\n",
      "_________________________________________________________________\n"
     ]
    }
   ],
   "source": [
    "model.summary()"
   ]
  },
  {
   "cell_type": "code",
   "execution_count": 65,
   "metadata": {},
   "outputs": [],
   "source": [
    "with open('/home/jupyter/notebooks/HistoryDict_baseline', 'wb') as file_pi:\n",
    "        pickle.dump(history_baseline.history, file_pi)\n",
    "\n",
    "with open('/home/jupyter/notebooks/Model_baseline', 'wb') as file_mo:\n",
    "        pickle.dump(model_baseline, file_mo)"
   ]
  },
  {
   "cell_type": "code",
   "execution_count": 49,
   "metadata": {},
   "outputs": [
    {
     "name": "stdout",
     "output_type": "stream",
     "text": [
      "1000/1000 [==============================] - 512s 512ms/step\n",
      "Test Accuracy 0.6757615804672241\n"
     ]
    }
   ],
   "source": [
    "score_baseline=model_baseline.evaluate(all_embeddings_test_baseline,y_test_baseline,steps=1000,verbose=1)\n",
    "print(\"Test Accuracy\",score_baseline[1])"
   ]
  },
  {
   "cell_type": "code",
   "execution_count": 64,
   "metadata": {},
   "outputs": [
    {
     "name": "stdout",
     "output_type": "stream",
     "text": [
      "dict_keys(['val_loss', 'val_acc', 'loss', 'acc'])\n"
     ]
    },
    {
     "data": {
      "image/png": "[encoded data removed]",
      "text/plain": [
       "<Figure size 432x288 with 1 Axes>"
      ]
     },
     "metadata": {
      "needs_background": "light"
     },
     "output_type": "display_data"
    },
    {
     "data": {
      "image/png": "[encoded data removed]",
      "text/plain": [
       "<Figure size 432x288 with 1 Axes>"
      ]
     },
     "metadata": {
      "needs_background": "light"
     },
     "output_type": "display_data"
    }
   ],
   "source": [
    "#visualization of test train and validation\n",
    "print(history_baseline.history.keys())\n",
    "# summarize history for accuracy\n",
    "fig = plt.figure()\n",
    "plt.plot(history_baseline.history['acc'])\n",
    "plt.plot(history_baseline.history['val_acc'])\n",
    "plt.plot(score[1])\n",
    "plt.title('model accuracy')\n",
    "plt.ylabel('accuracy')\n",
    "plt.xlabel('epoch')\n",
    "plt.legend(['train', 'val'], loc='upper left')\n",
    "plt.show()\n",
    "fig.savefig('/home/jupyter/notebooks/Baseline_Model_Acc.png', dpi=fig.dpi)\n",
    "# summarize history for loss\n",
    "fig = plt.figure()\n",
    "plt.plot(history_baseline.history['loss'])\n",
    "plt.plot(history_baseline.history['val_loss'])\n",
    "plt.title('model loss')\n",
    "plt.ylabel('loss')\n",
    "plt.xlabel('epoch')\n",
    "plt.legend(['train', 'val'], loc='upper left')\n",
    "plt.show()\n",
    "fig.savefig('/home/jupyter/notebooks/Baseline_Model_Loss.png', dpi=fig.dpi)"
   ]
  },
  {
   "cell_type": "markdown",
   "metadata": {},
   "source": [
    "## Baseline Using fastText --- Data Preprocessing"
   ]
  },
  {
   "cell_type": "code",
   "execution_count": null,
   "metadata": {},
   "outputs": [],
   "source": [
    "import zipfile\n",
    "\n",
    "pos_file = '/home/jupyter/notebooks/Current_lines.zip'\n",
    "zip_ref = zipfile.ZipFile(pos_file, 'r')\n",
    "zip_ref.extractall()\n",
    "zip_ref.close()\n",
    "\n",
    "neg_file = '/home/jupyter/notebooks/filtered_context.zip'\n",
    "zip_ref = zipfile.ZipFile(neg_file, 'r')\n",
    "zip_ref.extractall()\n",
    "zip_ref.close()"
   ]
  },
  {
   "cell_type": "code",
   "execution_count": null,
   "metadata": {},
   "outputs": [],
   "source": [
    "pos_file_path = '/home/jupyter/notebooks/Current_lines'\n",
    "neg_file_path = '/home/jupyter/notebooks/filtered_context'\n",
    "\n",
    "pos_file = os.listdir(pos_file_path)\n",
    "neg_file = os.listdir(neg_file_path)\n",
    "\n",
    "print(len(pos_file))\n",
    "print(len(neg_file))"
   ]
  },
  {
   "cell_type": "code",
   "execution_count": null,
   "metadata": {},
   "outputs": [],
   "source": [
    "with open('/home/jupyter/notebooks/pos_review_train.txt', 'w') as f1, open('/home/jupyter/notebooks/pos_review_test.txt', 'w') as f2:\n",
    "    for i in pos_file[:4750]:\n",
    "        f_rd = open(pos_file_path +\"/\" + str(i), 'r')\n",
    "        lines = f_rd.readlines()\n",
    "        if len(lines) == 0:\n",
    "            continue\n",
    "        for l in lines:\n",
    "            l = \"__label__1\" + l\n",
    "            f1.write(l)\n",
    "            \n",
    "    for i in pos_file[4750:]:\n",
    "        f_rd = open(pos_file_path +\"/\" + str(i), 'r')\n",
    "        lines = f_rd.readlines()\n",
    "        if len(lines) == 0:\n",
    "            continue\n",
    "        for l in lines:\n",
    "            l = \"__label__1\" + l\n",
    "            f2.write(l)\n",
    "f1.close()\n",
    "f2.close()"
   ]
  },
  {
   "cell_type": "code",
   "execution_count": null,
   "metadata": {},
   "outputs": [],
   "source": [
    "with open('/home/jupyter/notebooks/neg_review_train.txt', 'w') as f1, open('/home/jupyter/notebooks/neg_review_test.txt', 'w') as f2:\n",
    "    for i in neg_file[:75]:\n",
    "        f_rd = open(neg_file_path +\"/\" + str(i), 'r')\n",
    "        lines = f_rd.readlines()\n",
    "        if len(lines) == 0:\n",
    "            continue\n",
    "        \n",
    "        for l in lines:\n",
    "            l = \"__label__0\" + l \n",
    "            f1.write(l)\n",
    "        \n",
    "    for i in neg_file[75:85]:\n",
    "        f_rd = open(neg_file_path +\"/\" + str(i), 'r')\n",
    "        lines = f_rd.readlines()\n",
    "        if len(lines) == 0:\n",
    "            continue\n",
    "        \n",
    "        for l in lines:\n",
    "            l = \"__label__0\" + l \n",
    "            f2.write(l)\n",
    "\n",
    "f1.close()\n",
    "f2.close()"
   ]
  },
  {
   "cell_type": "code",
   "execution_count": null,
   "metadata": {},
   "outputs": [],
   "source": [
    "with open('/home/jupyter/notebooks/review_train.txt', 'w') as f_wr, open('/home/jupyter/notebooks/pos_review_train.txt', 'r') as f_pos, with open('/home/jupyter/notebooks/neg_review_train.txt', 'r') as f_neg:\n",
    "    f_wr.write(f_pos.read())\n",
    "    f_wr.write(f_neg.read())\n",
    "f_wr.close()"
   ]
  },
  {
   "cell_type": "code",
   "execution_count": null,
   "metadata": {},
   "outputs": [],
   "source": [
    "with open('/home/jupyter/notebooks/review_text.txt', 'w') as f_wr, open('/home/jupyter/notebooks/pos_review_text.txt', 'r') as f_pos, with open('/home/jupyter/notebooks/neg_review_text.txt', 'r') as f_neg:\n",
    "    f_wr.write(f_pos.read())\n",
    "    f_wr.write(f_neg.read())\n",
    "f_wr.close()"
   ]
  }
 ],
 "metadata": {
  "kernelspec": {
   "display_name": "Python 3",
   "language": "python",
   "name": "python3"
  },
  "language_info": {
   "codemirror_mode": {
    "name": "ipython",
    "version": 3
   },
   "file_extension": ".py",
   "mimetype": "text/x-python",
   "name": "python",
   "nbconvert_exporter": "python",
   "pygments_lexer": "ipython3",
   "version": "3.7.0"
  }
 },
 "nbformat": 4,
 "nbformat_minor": 2
}
